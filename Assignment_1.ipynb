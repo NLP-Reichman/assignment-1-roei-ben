{
 "nbformat": 4,
 "nbformat_minor": 0,
 "metadata": {
  "colab": {
   "provenance": []
  },
  "kernelspec": {
   "name": "python3",
   "display_name": "Python 3 (ipykernel)",
   "language": "python"
  },
  "language_info": {
   "name": "python"
  }
 },
 "cells": [
  {
   "cell_type": "markdown",
   "source": [
    "# Set up"
   ],
   "metadata": {
    "id": "FECp14-d_F2e"
   }
  },
  {
   "cell_type": "code",
   "source": [
    "!git clone https://github.com/NLP-Reichman/assignment_1.git\n",
    "!mv assignment_1/data data\n",
    "!rm assignment_1/ -r"
   ],
   "metadata": {
    "id": "za-DgcYB_IQx",
    "outputId": "059907a1-acc3-4683-8294-93c72c99150a",
    "colab": {
     "base_uri": "https://localhost:8080/"
    }
   },
   "execution_count": null,
   "outputs": [
    {
     "output_type": "stream",
     "name": "stdout",
     "text": [
      "Cloning into 'assignment_1'...\n",
      "remote: Enumerating objects: 96, done.\u001B[K\n",
      "remote: Counting objects: 100% (96/96), done.\u001B[K\n",
      "remote: Compressing objects: 100% (73/73), done.\u001B[K\n",
      "remote: Total 96 (delta 30), reused 64 (delta 13), pack-reused 0\u001B[K\n",
      "Receiving objects: 100% (96/96), 6.77 MiB | 13.01 MiB/s, done.\n",
      "Resolving deltas: 100% (30/30), done.\n"
     ]
    }
   ]
  },
  {
   "cell_type": "markdown",
   "source": [
    "# Introduction\n",
    "In this assignment you will be creating tools for learning and testing language models. The corpora that you will be working with are lists of tweets in 8 different languages that use the Latin script. The data is provided either formatted as CSV or as JSON, for your convenience. The end goal is to write a set of tools that can detect the language of a given tweet.\n",
    "The relevant files are under the data folder:\n",
    "\n",
    "- en.csv (or the equivalent JSON file)\n",
    "- es.csv (or the equivalent JSON file)\n",
    "- fr.csv (or the equivalent JSON file)\n",
    "- in.csv (or the equivalent JSON file)\n",
    "- it.csv (or the equivalent JSON file)\n",
    "- nl.csv (or the equivalent JSON file)\n",
    "- pt.csv (or the equivalent JSON file)\n",
    "- tl.csv (or the equivalent JSON file)"
   ],
   "metadata": {
    "id": "0i2bOXTB8Dvc"
   }
  },
  {
   "cell_type": "code",
   "metadata": {
    "id": "1u1qR7iaq_GU",
    "ExecuteTime": {
     "end_time": "2024-04-19T12:54:36.678133Z",
     "start_time": "2024-04-19T12:54:36.672498Z"
    }
   },
   "source": [
    "import json\n",
    "# from google.colab import files\n",
    "import pandas as pd\n",
    "import numpy as np"
   ],
   "outputs": [],
   "execution_count": 7
  },
  {
   "cell_type": "markdown",
   "source": [
    "# Implementation"
   ],
   "metadata": {
    "id": "IHN0tWTurwkN"
   }
  },
  {
   "cell_type": "markdown",
   "source": [
    "## Part 1\n",
    "Implement the function *preprocess* that iterates over all the data files and creates a single vocabulary, containing all the tokens in the data. Our token definition is a single UTF-8 encoded character. So, the vocabulary list is a simple Python list of all the characters that you see at least once in the data.\n",
    "\n",
    "Note - do NOT lowercase the sentences in whi HW."
   ],
   "metadata": {
    "id": "i56aKA0K8adr"
   }
  },
  {
   "metadata": {
    "ExecuteTime": {
     "end_time": "2024-04-19T12:47:30.139989Z",
     "start_time": "2024-04-19T12:47:30.137249Z"
    }
   },
   "cell_type": "code",
   "source": [
    "START_TOKEN = \"<start>\"\n",
    "END_TOKEN = \"<end>\"\n",
    "UNKNOWN_TOKEN = \"<unk>\"\n",
    "\n",
    "def get_texts_for_lang(lang: str) -> list[str]:\n",
    "    '''\n",
    "    Return a list of texts for the given language\n",
    "    :param lang: the language of the texts\n",
    "    :return: a list of texts\n",
    "    '''\n",
    "    data_file = f\"data/{lang}.csv\"\n",
    "    df = pd.read_csv(data_file, encoding=\"utf-8\")\n",
    "    return df[\"tweet_text\"].tolist()\n"
   ],
   "outputs": [],
   "execution_count": 2
  },
  {
   "cell_type": "code",
   "source": [
    "def preprocess() -> list[str]:\n",
    "    '''\n",
    "    Return a list of characters, representing the shared vocabulary of all languages\n",
    "    '''\n",
    "    languages = [\"en\", \"es\", \"fr\", \"in\", \"it\", \"nl\", \"pt\", \"tl\"]\n",
    "    vocab = set()\n",
    "    vocab.add(\"<start>\")\n",
    "    vocab.add(\"<end>\")\n",
    "    for lang in languages:\n",
    "        texts = get_texts_for_lang(lang)\n",
    "        for text in texts:\n",
    "            for c in text:\n",
    "                vocab.add(c)\n",
    "    return list(vocab)\n",
    "\n",
    "vocabulary = preprocess()"
   ],
   "metadata": {
    "id": "ws_5u7vRrg0o",
    "ExecuteTime": {
     "end_time": "2024-04-19T12:47:31.698016Z",
     "start_time": "2024-04-19T12:47:31.498867Z"
    }
   },
   "outputs": [],
   "execution_count": 3
  },
  {
   "cell_type": "markdown",
   "source": [
    "## Part 2\n",
    "Implement the function *lm* that generates a language model from a textual corpus. The function should return a dictionary (representing a model) where the keys are all the relevant *n*-1 sequences, and the values are dictionaries with the *n*_th tokens and their corresponding probabilities to occur. For example, for a trigram model (tokens are characters), it should look something like:\n",
    "\n",
    "{ \"ab\":{\"c\":0.5, \"b\":0.25, \"d\":0.25}, \"ca\":{\"a\":0.2, \"b\":0.7, \"d\":0.1} }\n",
    "\n",
    "which means for example that after the sequence \"ab\", there is a 0.5 chance that \"c\" will appear, 0.25 for \"b\" to appear and 0.25 for \"d\" to appear.\n",
    "\n",
    "Note - You should think how to add the add_one smoothing information to the dictionary and implement it."
   ],
   "metadata": {
    "id": "tpjtwHW08jyH"
   }
  },
  {
   "cell_type": "code",
   "source": [
    "def lm(lang: str, n: int, smoothed: bool = False) -> dict[str, dict[str, float]]:\n",
    "    '''\n",
    "    Return a language model for the given lang and n-gram (n), with an option for smoothing.\n",
    "    :param lang: the language of the model\n",
    "    :param n: the n_gram value\n",
    "    :param smoothed: boolean indicating whether to apply smoothing\n",
    "    :return: a dictionary where the keys are n-1 grams and the values are dictionaries\n",
    "    '''\n",
    "    '''\n",
    "    Return a language model for the given lang and n_gram (n)\n",
    "    :param lang: the language of the model\n",
    "    :param n: the n_gram value\n",
    "    :return: a dictionary where the keys are n_grams and the values are dictionaries\n",
    "    '''\n",
    "    texts = get_texts_for_lang(lang)\n",
    "    \n",
    "    model = dict()\n",
    "\n",
    "    for text in texts:\n",
    "        for i in range(0,n-1,1):\n",
    "            token = START_TOKEN * (n-i-1) + text[0:i]\n",
    "            if token not in model.keys():\n",
    "                model[token] = {}\n",
    "            if text[i] not in model[token].keys():\n",
    "                model[token][text[i]] = 1\n",
    "            else:\n",
    "                model[token][text[i]] += 1 \n",
    "        for i in range(len(text)-n+1):\n",
    "            token = text[i:i+n-1]\n",
    "            if token not in model.keys():\n",
    "                model[token] = {}\n",
    "            if text[i+n-1] not in model[token].keys():\n",
    "                model[token][text[i+n-1]] = 1\n",
    "            else:\n",
    "                model[token][text[i+n-1]] += 1 \n",
    "        # end of sentence\n",
    "        token = text[i+1:i+n]\n",
    "        if token not in model.keys():\n",
    "            model[token] = {}\n",
    "        if END_TOKEN not in model[token].keys():\n",
    "            model[token][END_TOKEN] = 1\n",
    "        else:\n",
    "            model[token][END_TOKEN] += 1 \n",
    "    \n",
    "    model[UNKNOWN_TOKEN] = { UNKNOWN_TOKEN: 1 }\n",
    "    \n",
    "    if smoothed:\n",
    "        for key in model.keys():\n",
    "            for token in vocabulary:\n",
    "                if token not in model[key].keys():\n",
    "                    model[key][token] = 0\n",
    "    \n",
    "    for key in model.keys():\n",
    "        total = sum(model[key].values())\n",
    "        for token in model[key].keys():\n",
    "            if smoothed:\n",
    "                model[key][token] = (model[key][token] + 1) / (total + len(vocabulary))\n",
    "            else:\n",
    "                model[key][token] = model[key][token] / total\n",
    "    return model\n"
   ],
   "metadata": {
    "id": "C9AdFAiS8qqA",
    "ExecuteTime": {
     "end_time": "2024-04-19T12:47:33.961475Z",
     "start_time": "2024-04-19T12:47:33.949680Z"
    }
   },
   "outputs": [],
   "execution_count": 4
  },
  {
   "cell_type": "markdown",
   "source": [
    "## Part 3\n",
    "Implement the function *eval* that returns the perplexity of a model (dictionary) running over the data file of the given target language."
   ],
   "metadata": {
    "id": "xwZnk7Ke8rW5"
   }
  },
  {
   "cell_type": "code",
   "source": [
    "def get_proba_from_to(model: dict, curr_char: str, next_char: str) -> float:\n",
    "    '''\n",
    "    Return the probability of the c_to character given the c_from characters\n",
    "    :param model: the language model\n",
    "    :param c_from: the n-1 characters\n",
    "    :param c_to: the n-th character\n",
    "    :return: the probability of c_to given c_from\n",
    "    '''\n",
    "    if curr_char not in model.keys():\n",
    "        return model[UNKNOWN_TOKEN][UNKNOWN_TOKEN]\n",
    "    if next_char not in model[curr_char].keys():\n",
    "        return model[UNKNOWN_TOKEN][UNKNOWN_TOKEN]\n",
    "    return model[curr_char][next_char]\n",
    "\n",
    "def eval(model: dict, target_lang: str, n: int) -> float:\n",
    "    '''\n",
    "    Return the perplexity value calculated over applying the model on the text file\n",
    "    of the target_lang language.\n",
    "    :param model: the language model\n",
    "    :param target_lang: the target language\n",
    "    :return: the perplexity value\n",
    "    '''\n",
    "    \n",
    "\n",
    "    tweets = get_texts_for_lang(target_lang)\n",
    "    proba_tweets = []\n",
    "\n",
    "    for t in tweets:\n",
    "        # start of sentence\n",
    "        for i in range(0,n-1,1):\n",
    "            curr_chars = START_TOKEN * (n-i-1) + t[0:i]\n",
    "            next_char = t[i]\n",
    "            proba_tweets.append(model[curr_chars][next_char])\n",
    "            \n",
    "        # n-grams of sentence\n",
    "        for i in range(len(t)-n+1):\n",
    "            c_from = t[i:i+n-1]\n",
    "            c_to = t[i+n-1]\n",
    "            proba_tweets.append(get_proba_from_to(model,c_from,c_to))\n",
    "            \n",
    "        # end of sentence\n",
    "        c_from = t[i+1:i+n]\n",
    "        c_to = END_TOKEN\n",
    "        proba_tweets.append(get_proba_from_to(model,c_from,c_to))\n",
    "\n",
    "    # print('counts=',len(proba_tweets))\n",
    "    # print('proba_tweets=',proba_tweets)\n",
    "    # print('proba_tweets log2=',np.log2(proba_tweets).sum())    \n",
    "    return np.power(2,- np.log2(proba_tweets).mean())\n",
    "    "
   ],
   "metadata": {
    "id": "ef-EglxXrmk2",
    "ExecuteTime": {
     "end_time": "2024-04-19T12:47:42.303455Z",
     "start_time": "2024-04-19T12:47:42.300418Z"
    }
   },
   "outputs": [],
   "execution_count": 5
  },
  {
   "cell_type": "markdown",
   "source": [
    "## Part 4\n",
    "Implement the *match* function that calls *eval* using a specific value of *n* for every possible language pair among the languages we have data for. You should call *eval* for every language pair four times, with each call assign a different value for *n* (1-4). Each language pair is composed of the source language and the target language. Before you make the call, you need to call the *lm* function to create the language model for the source language. Then you can call *eval* with the language model and the target language. The function should return a pandas DataFrame with the following four columns: *source_lang*, *target_lang*, *n*, *perplexity*. The values for the first two columns are the two-letter language codes. The value for *n* is the *n* you use for generating the specific perplexity values which you should store in the forth column."
   ],
   "metadata": {
    "id": "9ZYVc7hB84LP"
   }
  },
  {
   "cell_type": "code",
   "source": [
    "def match() -> pd.DataFrame:\n",
    "  '''\n",
    "  Return a DataFrame containing one line per every language pair and n_gram.\n",
    "  Each line will contain the perplexity calculated when applying the language model\n",
    "  of the source language on the text of the target language.\n",
    "  :return: a DataFrame containing the perplexity values\n",
    "  '''\n",
    "  return pd.DataFrame()"
   ],
   "metadata": {
    "id": "16ew9aZWroPC"
   },
   "execution_count": null,
   "outputs": []
  },
  {
   "cell_type": "markdown",
   "source": [
    "## Part 5\n",
    "Implement the *generate* function which takes a language code, *n*, the prompt (the starting text), the number of tokens to generate, and *r*, which is the random seed for any randomized action you plan to take in your implementation. The function should start generating tokens, one by one, using the language model of the given source language and *n*. The prompt should be used as a starting point for aligning on the probabilities to be used for generating the next token.\n",
    "\n",
    "Note - The generation of the next token should be from the LM's distribution."
   ],
   "metadata": {
    "id": "pAQoR0dH9C3T"
   }
  },
  {
   "cell_type": "code",
   "source": [
    "def generate(lang: str, n: int, prompt: str, number_of_tokens: int, r: int) -> str:\n",
    "  '''\n",
    "  Generate text in the given language using the given parameters.\n",
    "  :param lang: the language of the model\n",
    "  :param n: the n_gram value\n",
    "  :param prompt: the prompt to start the generation\n",
    "  :param number_of_tokens: the number of tokens to generate\n",
    "  :param r: the random seed to use\n",
    "  '''\n",
    "  return \"\""
   ],
   "metadata": {
    "id": "CpCm24-RrpuA"
   },
   "execution_count": null,
   "outputs": []
  },
  {
   "cell_type": "markdown",
   "source": [
    "## Part 6\n",
    "Play with your generate function, try to generate different texts in different language and various values of *n*. No need to submit anything of that."
   ],
   "metadata": {
    "id": "eUWX8Ugu9INH"
   }
  },
  {
   "cell_type": "code",
   "source": [],
   "metadata": {
    "id": "0ykbMBzG9LWn"
   },
   "execution_count": null,
   "outputs": []
  },
  {
   "cell_type": "markdown",
   "source": [
    "# Testing"
   ],
   "metadata": {
    "id": "q2jNlDISr9aL"
   }
  },
  {
   "cell_type": "markdown",
   "source": [
    "Copy the content of the **tests.py** file from the repo and paste below. This will create the results.json file and download it to your machine."
   ],
   "metadata": {
    "id": "uv48OCT_sIYW"
   }
  },
  {
   "cell_type": "code",
   "source": [
    "# Create tests\n",
    "def test_preprocess():\n",
    "    return {\n",
    "        'vocab_length': len(preprocess()),\n",
    "    }\n",
    "\n",
    "def test_lm():\n",
    "    return {\n",
    "        'english_2_gram_length': len(lm('en', 2, True)),\n",
    "        'english_3_gram_length': len(lm('en', 3, True)),\n",
    "        'french_3_gram_length': len(lm('fr', 3, True)),\n",
    "        'spanish_3_gram_length': len(lm('es', 3, True)),\n",
    "    }\n",
    "\n",
    "def test_eval():\n",
    "    return {\n",
    "        'en_en': eval(lm('en', 3, True), 'en', 3),\n",
    "        'en_fr': eval(lm('en', 3, True), 'fr', 3),\n",
    "        'en_tl': eval(lm('en', 3, True), 'tl', 3),\n",
    "        'en_nl': eval(lm('en', 3, True), 'nl', 3),\n",
    "    }\n",
    "\n",
    "def test_match():\n",
    "    df = match()\n",
    "    return {\n",
    "        'en_en_3': df[(df['source'] == 'en') & (df['target'] == 'en') & (df['n'] == 3)]['perplexity'].values[0],\n",
    "        'en_tl_3': df[(df['source'] == 'en') & (df['target'] == 'tl') & (df['n'] == 3)]['perplexity'].values[0],\n",
    "        'en_nl_3': df[(df['source'] == 'en') & (df['target'] == 'nl') & (df['n'] == 3)]['perplexity'].values[0],\n",
    "    }\n",
    "\n",
    "def test_generate():\n",
    "    return {\n",
    "        'english_1_gram': generate('en', 1, \"I\", 20, 5), \n",
    "        'english_2_gram': generate('en', 2, \"I am\", 20, 5),\n",
    "        'english_3_gram': generate('en', 3, \"I am\", 20, 5),\n",
    "        'english_4_gram': generate('en', 4, \"I Love\", 20, 5),\n",
    "        'spanish_2_gram': generate('es', 2, \"Soy\", 20, 5),\n",
    "        'spanish_3_gram': generate('es', 3, \"Soy\", 20, 5),\n",
    "        'french_2_gram': generate('fr', 2, \"Je suis\", 20, 5),\n",
    "        'french_3_gram': generate('fr', 3, \"Je suis\", 20, 5),\n",
    "    }\n",
    "\n",
    "# TESTS = [test_preprocess, test_lm, test_eval, test_match, test_generate]\n",
    "TESTS = [test_preprocess, test_lm, test_eval]\n",
    "\n",
    "# Run tests and save results\n",
    "res = {}\n",
    "for test in TESTS:\n",
    "    try:\n",
    "        cur_res = test()\n",
    "        res.update({test.__name__: cur_res})\n",
    "    except Exception as e:\n",
    "        res.update({test.__name__: repr(e)})\n",
    "\n",
    "with open('results.json', 'w') as f:\n",
    "    json.dump(res, f, indent=2)\n",
    "\n"
   ],
   "metadata": {
    "id": "JZTlc2ieruqq",
    "ExecuteTime": {
     "end_time": "2024-04-19T12:48:33.588965Z",
     "start_time": "2024-04-19T12:48:12.526163Z"
    }
   },
   "outputs": [],
   "execution_count": 6
  },
  {
   "cell_type": "code",
   "source": [
    "# Show the local files, results.json should be there now and\n",
    "# also downloaded to your local machine\n",
    "!ls -l"
   ],
   "metadata": {
    "colab": {
     "base_uri": "https://localhost:8080/"
    },
    "id": "kCksAA6RisRQ",
    "outputId": "ca69cf19-9e4c-446e-b0c6-3f87b02f1d8c"
   },
   "execution_count": null,
   "outputs": [
    {
     "output_type": "stream",
     "name": "stdout",
     "text": [
      "total 4\n",
      "drwxr-xr-x 1 root root 4096 Apr  1 13:24 sample_data\n"
     ]
    }
   ]
  },
  {
   "cell_type": "code",
   "source": [],
   "metadata": {
    "id": "uMSfgUtuiux0"
   },
   "execution_count": null,
   "outputs": []
  }
 ]
}
